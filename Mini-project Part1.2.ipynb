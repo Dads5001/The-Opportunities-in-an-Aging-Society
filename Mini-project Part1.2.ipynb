{
 "cells": [
  {
   "cell_type": "code",
   "execution_count": 24,
   "id": "bce6fdb9",
   "metadata": {},
   "outputs": [
    {
     "name": "stdout",
     "output_type": "stream",
     "text": [
      "Python 3.9.12 (main, Apr  5 2022, 01:53:17) \n",
      "[Clang 12.0.0 ]\n",
      "Pandas 1.4.2\n",
      "NumPy 1.21.5\n",
      "Matplotlib 3.5.1\n",
      "Seaborn 0.11.2\n"
     ]
    }
   ],
   "source": [
    "import sys\n",
    "import numpy as np\n",
    "import pandas as pd\n",
    "\n",
    "import matplotlib as mpl\n",
    "%matplotlib inline\n",
    "import matplotlib.pyplot as plt\n",
    "\n",
    "# conda install -c anaconda seaborn\n",
    "import seaborn as sns\n",
    "sns.set()  # Plot using the seaborn style\n",
    "\n",
    "print( f\"Python {sys.version}\" )\n",
    "print( f\"Pandas {pd.__version__}\" )\n",
    "print( f\"NumPy {np.__version__}\" )\n",
    "print( f\"Matplotlib {mpl.__version__}\" )\n",
    "print( f\"Seaborn {sns.__version__}\" )"
   ]
  },
  {
   "cell_type": "code",
   "execution_count": 25,
   "id": "446cb9e0",
   "metadata": {},
   "outputs": [
    {
     "data": {
      "text/html": [
       "<div>\n",
       "<style scoped>\n",
       "    .dataframe tbody tr th:only-of-type {\n",
       "        vertical-align: middle;\n",
       "    }\n",
       "\n",
       "    .dataframe tbody tr th {\n",
       "        vertical-align: top;\n",
       "    }\n",
       "\n",
       "    .dataframe thead th {\n",
       "        text-align: right;\n",
       "    }\n",
       "</style>\n",
       "<table border=\"1\" class=\"dataframe\">\n",
       "  <thead>\n",
       "    <tr style=\"text-align: right;\">\n",
       "      <th></th>\n",
       "      <th>country</th>\n",
       "      <th>population</th>\n",
       "      <th>births</th>\n",
       "      <th>deaths</th>\n",
       "      <th>rate_deaths</th>\n",
       "      <th>migration_rate</th>\n",
       "      <th>population_mid2035</th>\n",
       "      <th>population_mid2050</th>\n",
       "      <th>infant_mortality_rate</th>\n",
       "      <th>fertility_rate</th>\n",
       "      <th>...</th>\n",
       "      <th>life_birth_ female</th>\n",
       "      <th>hiv_males</th>\n",
       "      <th>hiv_females</th>\n",
       "      <th>percent_urban</th>\n",
       "      <th>population_per_square_arableland</th>\n",
       "      <th>gni</th>\n",
       "      <th>covid_excess_deaths</th>\n",
       "      <th>covid_excess_deaths_100,000_Population</th>\n",
       "      <th>covid19_total_deaths</th>\n",
       "      <th>population_fully_vaccinated</th>\n",
       "    </tr>\n",
       "  </thead>\n",
       "  <tbody>\n",
       "    <tr>\n",
       "      <th>0</th>\n",
       "      <td>Algeria</td>\n",
       "      <td>44.9</td>\n",
       "      <td>22.0</td>\n",
       "      <td>5.0</td>\n",
       "      <td>2.0</td>\n",
       "      <td>0.0</td>\n",
       "      <td>52.0</td>\n",
       "      <td>60.0</td>\n",
       "      <td>19.0</td>\n",
       "      <td>3.0</td>\n",
       "      <td>...</td>\n",
       "      <td>78.0</td>\n",
       "      <td>0.1</td>\n",
       "      <td>0.1</td>\n",
       "      <td>74.0</td>\n",
       "      <td>598.0</td>\n",
       "      <td>11750.0</td>\n",
       "      <td>34794.0</td>\n",
       "      <td>79.0</td>\n",
       "      <td>14.0</td>\n",
       "      <td>16.0</td>\n",
       "    </tr>\n",
       "    <tr>\n",
       "      <th>1</th>\n",
       "      <td>Egypt</td>\n",
       "      <td>103.5</td>\n",
       "      <td>21.0</td>\n",
       "      <td>7.0</td>\n",
       "      <td>1.0</td>\n",
       "      <td>1.0</td>\n",
       "      <td>123.0</td>\n",
       "      <td>145.0</td>\n",
       "      <td>16.0</td>\n",
       "      <td>3.0</td>\n",
       "      <td>...</td>\n",
       "      <td>76.0</td>\n",
       "      <td>0.1</td>\n",
       "      <td>0.1</td>\n",
       "      <td>44.0</td>\n",
       "      <td>3077.0</td>\n",
       "      <td>12910.0</td>\n",
       "      <td>125551.0</td>\n",
       "      <td>122.0</td>\n",
       "      <td>18.0</td>\n",
       "      <td>35.0</td>\n",
       "    </tr>\n",
       "    <tr>\n",
       "      <th>2</th>\n",
       "      <td>Morocco</td>\n",
       "      <td>36.7</td>\n",
       "      <td>17.0</td>\n",
       "      <td>5.0</td>\n",
       "      <td>1.0</td>\n",
       "      <td>-1.0</td>\n",
       "      <td>41.0</td>\n",
       "      <td>44.0</td>\n",
       "      <td>15.0</td>\n",
       "      <td>2.0</td>\n",
       "      <td>...</td>\n",
       "      <td>76.0</td>\n",
       "      <td>0.1</td>\n",
       "      <td>0.1</td>\n",
       "      <td>64.0</td>\n",
       "      <td>479.0</td>\n",
       "      <td>8020.0</td>\n",
       "      <td>17374.0</td>\n",
       "      <td>47.0</td>\n",
       "      <td>6.0</td>\n",
       "      <td>63.0</td>\n",
       "    </tr>\n",
       "    <tr>\n",
       "      <th>3</th>\n",
       "      <td>Sudan</td>\n",
       "      <td>46.9</td>\n",
       "      <td>34.0</td>\n",
       "      <td>7.0</td>\n",
       "      <td>3.0</td>\n",
       "      <td>0.0</td>\n",
       "      <td>64.0</td>\n",
       "      <td>85.0</td>\n",
       "      <td>39.0</td>\n",
       "      <td>5.0</td>\n",
       "      <td>...</td>\n",
       "      <td>68.0</td>\n",
       "      <td>0.0</td>\n",
       "      <td>0.0</td>\n",
       "      <td>36.0</td>\n",
       "      <td>223.0</td>\n",
       "      <td>4000.0</td>\n",
       "      <td>19000.0</td>\n",
       "      <td>43.0</td>\n",
       "      <td>7.0</td>\n",
       "      <td>9.0</td>\n",
       "    </tr>\n",
       "    <tr>\n",
       "      <th>4</th>\n",
       "      <td>Tunisia</td>\n",
       "      <td>11.8</td>\n",
       "      <td>16.0</td>\n",
       "      <td>8.0</td>\n",
       "      <td>1.0</td>\n",
       "      <td>-1.0</td>\n",
       "      <td>13.0</td>\n",
       "      <td>14.0</td>\n",
       "      <td>14.0</td>\n",
       "      <td>2.0</td>\n",
       "      <td>...</td>\n",
       "      <td>77.0</td>\n",
       "      <td>0.1</td>\n",
       "      <td>0.1</td>\n",
       "      <td>70.0</td>\n",
       "      <td>456.0</td>\n",
       "      <td>11270.0</td>\n",
       "      <td>11911.0</td>\n",
       "      <td>100.0</td>\n",
       "      <td>14.0</td>\n",
       "      <td>54.0</td>\n",
       "    </tr>\n",
       "  </tbody>\n",
       "</table>\n",
       "<p>5 rows × 27 columns</p>\n",
       "</div>"
      ],
      "text/plain": [
       "   country  population  births  deaths  rate_deaths   migration_rate  \\\n",
       "0  Algeria        44.9    22.0     5.0           2.0             0.0   \n",
       "1    Egypt       103.5    21.0     7.0           1.0             1.0   \n",
       "2  Morocco        36.7    17.0     5.0           1.0            -1.0   \n",
       "3    Sudan        46.9    34.0     7.0           3.0             0.0   \n",
       "4  Tunisia        11.8    16.0     8.0           1.0            -1.0   \n",
       "\n",
       "   population_mid2035  population_mid2050  infant_mortality_rate  \\\n",
       "0                52.0                60.0                   19.0   \n",
       "1               123.0               145.0                   16.0   \n",
       "2                41.0                44.0                   15.0   \n",
       "3                64.0                85.0                   39.0   \n",
       "4                13.0                14.0                   14.0   \n",
       "\n",
       "   fertility_rate  ...  life_birth_ female  hiv_males  hiv_females  \\\n",
       "0             3.0  ...                78.0        0.1          0.1   \n",
       "1             3.0  ...                76.0        0.1          0.1   \n",
       "2             2.0  ...                76.0        0.1          0.1   \n",
       "3             5.0  ...                68.0        0.0          0.0   \n",
       "4             2.0  ...                77.0        0.1          0.1   \n",
       "\n",
       "   percent_urban  population_per_square_arableland      gni  \\\n",
       "0           74.0                             598.0  11750.0   \n",
       "1           44.0                            3077.0  12910.0   \n",
       "2           64.0                             479.0   8020.0   \n",
       "3           36.0                             223.0   4000.0   \n",
       "4           70.0                             456.0  11270.0   \n",
       "\n",
       "   covid_excess_deaths  covid_excess_deaths_100,000_Population  \\\n",
       "0              34794.0                                    79.0   \n",
       "1             125551.0                                   122.0   \n",
       "2              17374.0                                    47.0   \n",
       "3              19000.0                                    43.0   \n",
       "4              11911.0                                   100.0   \n",
       "\n",
       "   covid19_total_deaths  population_fully_vaccinated   \n",
       "0                  14.0                          16.0  \n",
       "1                  18.0                          35.0  \n",
       "2                   6.0                          63.0  \n",
       "3                   7.0                           9.0  \n",
       "4                  14.0                          54.0  \n",
       "\n",
       "[5 rows x 27 columns]"
      ]
     },
     "execution_count": 25,
     "metadata": {},
     "output_type": "execute_result"
    }
   ],
   "source": [
    "df = pd.read_csv('2022.csv')  \n",
    "df.head()"
   ]
  },
  {
   "cell_type": "code",
   "execution_count": 26,
   "id": "b09d48cb",
   "metadata": {},
   "outputs": [
    {
     "data": {
      "text/plain": [
       "<AxesSubplot:>"
      ]
     },
     "execution_count": 26,
     "metadata": {},
     "output_type": "execute_result"
    },
    {
     "data": {
      "text/plain": [
       "<Figure size 1440x1152 with 0 Axes>"
      ]
     },
     "metadata": {},
     "output_type": "display_data"
    },
    {
     "data": {
      "image/png": "[encoded data removed]",
      "text/plain": [
       "<Figure size 432x288 with 1 Axes>"
      ]
     },
     "metadata": {},
     "output_type": "display_data"
    }
   ],
   "source": [
    "plt.figure(figsize=(20,16))\n",
    "df[['births','deaths']].plot(kind='box')"
   ]
  },
  {
   "cell_type": "code",
   "execution_count": 28,
   "id": "ea9ceb73",
   "metadata": {},
   "outputs": [
    {
     "ename": "NameError",
     "evalue": "name 'whisker' is not defined",
     "output_type": "error",
     "traceback": [
      "\u001b[0;31m---------------------------------------------------------------------------\u001b[0m",
      "\u001b[0;31mNameError\u001b[0m                                 Traceback (most recent call last)",
      "Input \u001b[0;32mIn [28]\u001b[0m, in \u001b[0;36m<cell line: 4>\u001b[0;34m()\u001b[0m\n\u001b[1;32m      2\u001b[0m df[[\u001b[38;5;124m'\u001b[39m\u001b[38;5;124mbirths\u001b[39m\u001b[38;5;124m'\u001b[39m,\u001b[38;5;124m'\u001b[39m\u001b[38;5;124mdeaths\u001b[39m\u001b[38;5;124m'\u001b[39m]]\u001b[38;5;241m.\u001b[39mplot(kind\u001b[38;5;241m=\u001b[39m\u001b[38;5;124m'\u001b[39m\u001b[38;5;124mbox\u001b[39m\u001b[38;5;124m'\u001b[39m,showfliers\u001b[38;5;241m=\u001b[39m\u001b[38;5;28;01mFalse\u001b[39;00m) \n\u001b[1;32m      3\u001b[0m plt\u001b[38;5;241m.\u001b[39mtitle(\u001b[38;5;124m'\u001b[39m\u001b[38;5;124mBirths and Deaths in 2022\u001b[39m\u001b[38;5;124m'\u001b[39m) \n\u001b[0;32m----> 4\u001b[0m \u001b[43mwhisker\u001b[49m\u001b[38;5;241m.\u001b[39mset(color\u001b[38;5;241m=\u001b[39m\u001b[38;5;124m'\u001b[39m\u001b[38;5;124mblue\u001b[39m\u001b[38;5;124m'\u001b[39m, linewidth\u001b[38;5;241m=\u001b[39m\u001b[38;5;241m2.5\u001b[39m, linestyle\u001b[38;5;241m=\u001b[39m\u001b[38;5;124m'\u001b[39m\u001b[38;5;124m--\u001b[39m\u001b[38;5;124m'\u001b[39m)\n\u001b[1;32m      5\u001b[0m median\u001b[38;5;241m.\u001b[39mset(color\u001b[38;5;241m=\u001b[39m\u001b[38;5;124m'\u001b[39m\u001b[38;5;124mred\u001b[39m\u001b[38;5;124m'\u001b[39m, linewidth\u001b[38;5;241m=\u001b[39m\u001b[38;5;241m2\u001b[39m)\n",
      "\u001b[0;31mNameError\u001b[0m: name 'whisker' is not defined"
     ]
    },
    {
     "data": {
      "text/plain": [
       "<Figure size 1440x1152 with 0 Axes>"
      ]
     },
     "metadata": {},
     "output_type": "display_data"
    },
    {
     "data": {
      "image/png": "[encoded data removed]",
      "text/plain": [
       "<Figure size 432x288 with 1 Axes>"
      ]
     },
     "metadata": {},
     "output_type": "display_data"
    }
   ],
   "source": [
    "plt.figure(figsize=(20,16)) \n",
    "df[['births','deaths']].plot(kind='box',showfliers=False) \n",
    "plt.title('Births and Deaths in 2022') \n",
    "whisker.set(color='blue', linewidth=2.5, linestyle='--')\n",
    "median.set(color='red', linewidth=2)"
   ]
  },
  {
   "cell_type": "code",
   "execution_count": 27,
   "id": "6bb76828",
   "metadata": {},
   "outputs": [
    {
     "data": {
      "text/plain": [
       "Text(0, 0.5, 'QTY')"
      ]
     },
     "execution_count": 27,
     "metadata": {},
     "output_type": "execute_result"
    },
    {
     "data": {
      "image/png": "[encoded data removed]",
      "text/plain": [
       "<Figure size 720x576 with 1 Axes>"
      ]
     },
     "metadata": {},
     "output_type": "display_data"
    }
   ],
   "source": [
    "sns.set(style=\"whitegrid\")\n",
    "plt.figure(figsize=(10,8))\n",
    "sns.countplot(x='fertility_rate', data=df,palette='Blues_r')\n",
    "plt.xlabel('Fertility Rate in 2022')\n",
    "plt.ylabel('QTY')\n"
   ]
  },
  {
   "cell_type": "code",
   "execution_count": null,
   "id": "536b84b6",
   "metadata": {},
   "outputs": [],
   "source": []
  }
 ],
 "metadata": {
  "kernelspec": {
   "display_name": "Python 3 (ipykernel)",
   "language": "python",
   "name": "python3"
  },
  "language_info": {
   "codemirror_mode": {
    "name": "ipython",
    "version": 3
   },
   "file_extension": ".py",
   "mimetype": "text/x-python",
   "name": "python",
   "nbconvert_exporter": "python",
   "pygments_lexer": "ipython3",
   "version": "3.9.12"
  }
 },
 "nbformat": 4,
 "nbformat_minor": 5
}
